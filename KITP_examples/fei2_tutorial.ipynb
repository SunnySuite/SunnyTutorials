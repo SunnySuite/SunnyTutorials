{
 "cells": [
  {
   "cell_type": "markdown",
   "metadata": {},
   "source": [
    "# Case Study: FeI$_{2}$\n",
    "\n",
    "FeI$_2$ is an effective spin-1 material with strong single-ion anisotropy.\n",
    "Quadrupolar fluctuations give rise to a single-ion bound state that cannot be\n",
    "described by a dipole-only model. This tutorial illustrates how to use the\n",
    "linear spin wave theory of SU(3) coherent states (i.e. 2-flavor bosons) to\n",
    "model the magnetic behavior in FeI$_2$. The original study was performed in\n",
    "[Bai et al., Nature Physics 17, 467–472\n",
    "(2021)](https://doi.org/10.1038/s41567-020-01110-1).\n",
    "\n",
    "<div>\n",
    "    <img src=\"https://raw.githubusercontent.com/SunnySuite/Sunny.jl/main/docs/src/assets/FeI2_crystal.jpg\" style=\"float: left;\" width=\"400\">\n",
    "</div>\n",
    "\n",
    "The Fe atoms are arranged in stacked triangular layers. The effective spin\n",
    "interactions include various anisotropic exchange interactions, and a strong\n",
    "single-ion anisotropy:\n",
    "\n",
    "$$\n",
    "\\mathcal{H}=\\sum_{(i,j)} J^{\\alpha\\beta}_{ij} S^{\\alpha}_i S^{\\beta}_j - D\\sum_i \\left(S^z\\right)^2\n",
    "$$\n",
    "\n",
    "We will formulate this Hamiltonian in Sunny and then calculate its dynamic\n",
    "structure factor."
   ]
  },
  {
   "cell_type": "markdown",
   "metadata": {},
   "source": [
    "## Get Julia and Sunny\n",
    "\n",
    "Sunny is implemented in Julia. This is a relatively new programming language\n",
    "that allows for interactive development (like Python or Matlab) while also\n",
    "providing high numerical efficiency (like C++ or Fortran). New Julia users may\n",
    "wish to take a look at our [Getting Started with\n",
    "Julia](https://github.com/SunnySuite/Sunny.jl/wiki/Getting-started-with-Julia)\n",
    "guide. Sunny requires Julia 1.9 or later.\n",
    "\n",
    "From the Julia prompt, load `Sunny` and a variant of the Makie plotting package. Since this is a Jupyter notebook, we will select `WGLMakie`."
   ]
  },
  {
   "cell_type": "code",
   "execution_count": null,
   "metadata": {},
   "outputs": [],
   "source": [
    "using Sunny\n",
    "using WGLMakie   # Inline graphics for Jupyter notebooks\n",
    "Sunny.offline_viewers()"
   ]
  },
  {
   "cell_type": "markdown",
   "metadata": {},
   "source": [
    "If these packages are not yet installed, Julia should offer to install them\n",
    "using its built-in package management system. If old versions are installed,\n",
    "you may need to update them to run this tutorial."
   ]
  },
  {
   "cell_type": "markdown",
   "metadata": {},
   "source": [
    "## Crystals\n",
    "\n",
    "A `Crystal` describes the crystallographic unit cell and will usually\n",
    "be loaded from a `.cif` file. Here, we instead build a crystal by listing all\n",
    "atoms and their types."
   ]
  },
  {
   "cell_type": "code",
   "execution_count": null,
   "metadata": {},
   "outputs": [],
   "source": [
    "a = b = 4.05012  # Lattice constants for triangular lattice\n",
    "c = 6.75214      # Spacing in the z-direction\n",
    "\n",
    "latvecs = lattice_vectors(a, b, c, 90, 90, 120) # A 3x3 matrix of lattice vectors that\n",
    "                                                 # define the conventional unit cell\n",
    "positions = [[0,0,0], [1/3, 2/3, 1/4], [2/3, 1/3, 3/4]]  # Positions of atoms in fractions\n",
    "                                                         # of lattice vectors\n",
    "types = [\"Fe\", \"I\", \"I\"]\n",
    "FeI2 = Crystal(latvecs, positions; types)"
   ]
  },
  {
   "cell_type": "markdown",
   "metadata": {},
   "source": [
    "Observe that Sunny inferred the space group, 'P -3 m 1' (164) and labeled the\n",
    "atoms according to their point group symmetries."
   ]
  },
  {
   "cell_type": "markdown",
   "metadata": {},
   "source": [
    "An interactive viewer of the crystal and its bonds is available for Jupyter notebooks."
   ]
  },
  {
   "cell_type": "code",
   "execution_count": null,
   "metadata": {},
   "outputs": [],
   "source": [
    "view_crystal(FeI2, 8.0)"
   ]
  },
  {
   "cell_type": "markdown",
   "metadata": {},
   "source": [
    "Only the Fe atoms are magnetic, so we discard the I ions using\n",
    "`subcrystal`."
   ]
  },
  {
   "cell_type": "code",
   "execution_count": null,
   "metadata": {},
   "outputs": [],
   "source": [
    "cryst = subcrystal(FeI2, \"Fe\")"
   ]
  },
  {
   "cell_type": "markdown",
   "metadata": {},
   "source": [
    "Importantly, `cryst` retains the spacegroup symmetry of the full FeI$_2$\n",
    "crystal. This information will be used, for example, to propagate exchange\n",
    "interactions between symmetry-equivalent bonds."
   ]
  },
  {
   "cell_type": "markdown",
   "metadata": {},
   "source": [
    "## Symmetry analysis\n",
    "\n",
    "The command `print_symmetry_table` provides a list of all the\n",
    "symmetry-allowed interactions up to a cutoff distance."
   ]
  },
  {
   "cell_type": "code",
   "execution_count": null,
   "metadata": {},
   "outputs": [],
   "source": [
    "print_symmetry_table(cryst, 8.0)"
   ]
  },
  {
   "cell_type": "markdown",
   "metadata": {},
   "source": [
    "The allowed $g$-tensor is expressed as a 3×3 matrix in the free coefficients\n",
    "`A`, `B`, ... The allowed single-ion anisotropy is expressed as a linear\n",
    "combination of Stevens operators. The latter correspond to polynomials of the\n",
    "spin operators, as we will describe below.\n",
    "\n",
    "The allowed exchange interactions are given as a 3×3 matrix for representative\n",
    "bonds. The notation `Bond(i, j, n)` indicates a bond between atom indices `i`\n",
    "and `j`, with cell offset `n`. In the general case, it will be necessary to\n",
    "associate atom indices with their positions in the unit cell; these can be\n",
    "viewed with `display(cryst)`. Note that the order of the pair $(i, j)$ is\n",
    "significant if the exchange tensor contains antisymmetric\n",
    "Dzyaloshinskii–Moriya (DM) interactions.\n",
    "\n",
    "In the case of FeI$_2$, `Bond(1, 1, [1,0,0])` is one of the 6 nearest-neighbor\n",
    "Fe-Fe bonds on a triangular lattice layer, and `Bond(1, 1, [0,0,1])` is an\n",
    "Fe-Fe bond between layers."
   ]
  },
  {
   "cell_type": "markdown",
   "metadata": {},
   "source": [
    "## Building a spin System"
   ]
  },
  {
   "cell_type": "markdown",
   "metadata": {},
   "source": [
    "In constructing a spin `System`, we must provide several additional\n",
    "details about the spins."
   ]
  },
  {
   "cell_type": "code",
   "execution_count": null,
   "metadata": {},
   "outputs": [],
   "source": [
    "sys = System(cryst, (4,4,4), [SpinInfo(1, S=1, g=2)], :SUN, seed=2)"
   ]
  },
  {
   "cell_type": "markdown",
   "metadata": {},
   "source": [
    "This system includes $4×4×4$ unit cells, i.e. 64 Fe atoms, each with spin $S=1$\n",
    "and a $g$-factor of 2. Quantum mechanically, spin $S=1$ involves a\n",
    "superposition of $2S+1=3$ distinct angular momentum states. In `:SUN` mode,\n",
    "this superposition will be modeled explicitly using the formalism of SU(3)\n",
    "coherent states, which captures both dipolar and quadrupolar fluctuations. For\n",
    "the more traditional dipole dynamics, use `:dipole` mode instead."
   ]
  },
  {
   "cell_type": "markdown",
   "metadata": {},
   "source": [
    "Next we will use `set_exchange!` to assign interaction to bonds. Sunny\n",
    "will automatically propagate each interaction to all symmetry-equivalent bonds\n",
    "in the unit cell. The FeI$_2$ interactions below follow [Bai et\n",
    "al](https://doi.org/10.1038/s41567-020-01110-1)."
   ]
  },
  {
   "cell_type": "code",
   "execution_count": null,
   "metadata": {},
   "outputs": [],
   "source": [
    "J1pm   = -0.236\n",
    "J1pmpm = -0.161\n",
    "J1zpm  = -0.261\n",
    "J2pm   = 0.026\n",
    "J3pm   = 0.166\n",
    "J′0pm  = 0.037\n",
    "J′1pm  = 0.013\n",
    "J′2apm = 0.068\n",
    "\n",
    "J1zz   = -0.236\n",
    "J2zz   = 0.113\n",
    "J3zz   = 0.211\n",
    "J′0zz  = -0.036\n",
    "J′1zz  = 0.051\n",
    "J′2azz = 0.073\n",
    "\n",
    "J1xx = J1pm + J1pmpm\n",
    "J1yy = J1pm - J1pmpm\n",
    "J1yz = J1zpm\n",
    "\n",
    "set_exchange!(sys, [J1xx   0.0    0.0;\n",
    "                    0.0    J1yy   J1yz;\n",
    "                    0.0    J1yz   J1zz], Bond(1,1,[1,0,0]))\n",
    "set_exchange!(sys, [J2pm   0.0    0.0;\n",
    "                    0.0    J2pm   0.0;\n",
    "                    0.0    0.0    J2zz], Bond(1,1,[1,2,0]))\n",
    "set_exchange!(sys, [J3pm   0.0    0.0;\n",
    "                    0.0    J3pm   0.0;\n",
    "                    0.0    0.0    J3zz], Bond(1,1,[2,0,0]))\n",
    "set_exchange!(sys, [J′0pm  0.0    0.0;\n",
    "                    0.0    J′0pm  0.0;\n",
    "                    0.0    0.0    J′0zz], Bond(1,1,[0,0,1]))\n",
    "set_exchange!(sys, [J′1pm  0.0    0.0;\n",
    "                    0.0    J′1pm  0.0;\n",
    "                    0.0    0.0    J′1zz], Bond(1,1,[1,0,1]))\n",
    "set_exchange!(sys, [J′2apm 0.0    0.0;\n",
    "                    0.0    J′2apm 0.0;\n",
    "                    0.0    0.0    J′2azz], Bond(1,1,[1,2,1]))"
   ]
  },
  {
   "cell_type": "markdown",
   "metadata": {},
   "source": [
    "The function `set_onsite_coupling!` assigns a single-ion anisotropy\n",
    "operator. It can be constructed, e.g., from the matrices given by\n",
    "`spin_operators` or `stevens_operators`. Here we construct an\n",
    "easy-axis anisotropy along the direction $\\hat{z}$."
   ]
  },
  {
   "cell_type": "code",
   "execution_count": null,
   "metadata": {},
   "outputs": [],
   "source": [
    "D = 2.165\n",
    "S = spin_operators(sys, 1)\n",
    "set_onsite_coupling!(sys, -D*S[3]^2, 1)"
   ]
  },
  {
   "cell_type": "markdown",
   "metadata": {},
   "source": [
    "Any anisotropy operator can be converted to a linear combination of Stevens\n",
    "operators with `print_stevens_expansion`."
   ]
  },
  {
   "cell_type": "markdown",
   "metadata": {},
   "source": [
    "# Calculating structure factor intensities"
   ]
  },
  {
   "cell_type": "markdown",
   "metadata": {},
   "source": [
    "In the remainder of this tutorial, we will examine Sunny's tools for\n",
    "calculating the dynamical structure factor using a [multi-boson\n",
    "generalization](https://arxiv.org/abs/1307.7731) of linear spin wave theory\n",
    "(LSWT). This theory describes non-interacting quasi-particle excitations that\n",
    "hybridize dipolar and quadrupolar modes."
   ]
  },
  {
   "cell_type": "markdown",
   "metadata": {},
   "source": [
    "## Finding the ground state"
   ]
  },
  {
   "cell_type": "markdown",
   "metadata": {},
   "source": [
    "Begin with a random configuration and use `minimize_energy!` to find a\n",
    "configuration of the SU(3) coherent states (i.e. spin dipoles and quadrupoles)\n",
    "that locally minimizes energy."
   ]
  },
  {
   "cell_type": "code",
   "execution_count": null,
   "metadata": {},
   "outputs": [],
   "source": [
    "randomize_spins!(sys)\n",
    "minimize_energy!(sys);"
   ]
  },
  {
   "cell_type": "markdown",
   "metadata": {},
   "source": [
    "The expected ground state for FeI$_2$ is an antiferrogmanetic striped phase\n",
    "with a period of four spins (two up, two down). Visualizing the result of\n",
    "optimization, however, may indicate the system got stuck in a local minimum\n",
    "with defects."
   ]
  },
  {
   "cell_type": "code",
   "execution_count": null,
   "metadata": {},
   "outputs": [],
   "source": [
    "plot_spins(sys, linecolor=:gray, resolution=(1024,1024))"
   ]
  },
  {
   "cell_type": "markdown",
   "metadata": {},
   "source": [
    "A better understanding of the magnetic ordering can often be obtained by\n",
    "moving to Fourier space. The 'instant' structure factor $𝒮(𝐪)$ is an\n",
    "experimental observable. To investigate $𝒮(𝐪)$ as true 3D data, Sunny\n",
    "provides `instant_correlations` and related functions. Here, however,\n",
    "we will use the lighter weight function `print_wrapped_intensities` to\n",
    "get a quick understanding of the periodicities present in the spin\n",
    "configuration."
   ]
  },
  {
   "cell_type": "code",
   "execution_count": null,
   "metadata": {},
   "outputs": [],
   "source": [
    "print_wrapped_intensities(sys)"
   ]
  },
  {
   "cell_type": "markdown",
   "metadata": {},
   "source": [
    "The precise output may vary with Sunny version due to, e.g., different\n",
    "floating point roundoff effects. Very likely, however, the result will be\n",
    "approximately consistent with the known zero-field energy-minimizing magnetic\n",
    "structure of FeI$_2$, which is single-$Q$. Mathematically, spontaneous\n",
    "symmetry breaking should select one of $±Q = [0, -1/4, 1/4]$, $[1/4, 0, 1/4]$,\n",
    "or $[-1/4,1/4,1/4]$, associated with the three-fold rotational symmetry of the\n",
    "crystal spacegroup. In practice, however, one will frequently encounter\n",
    "competing \"domains\" associated with the three possible orientations of the\n",
    "ground state."
   ]
  },
  {
   "cell_type": "markdown",
   "metadata": {},
   "source": [
    "If the desired ground state is already known, as with FeI$_2$, it could be\n",
    "entered by hand using `set_dipole!`. Alternatively, in the case of\n",
    "FeI$_2$, we could repeatedly employ the above randomization and minimization\n",
    "procedure until a defect-free configuration is found. Some systems will have\n",
    "more complicated ground states, which can be much more challenging to find.\n",
    "For this, Sunny provides experimental support for powerful simulated annealing\n",
    "via [parallel tempering](https://en.wikipedia.org/wiki/Parallel_tempering),\n",
    "but that is outside the scope of this tutorial."
   ]
  },
  {
   "cell_type": "markdown",
   "metadata": {},
   "source": [
    "Here, let's break the three-fold symmetry of FeI$_2$ by hand. Given one or\n",
    "more desired $Q$ modes, Sunny can suggest a magnetic supercell with\n",
    "appropriate periodicity. Let's arbitrarily select one of the three possible\n",
    "ordering wavevectors, $Q = [0, -1/4, 1/4]$. Sunny suggest a corresponding\n",
    "magnetic supercell in units of the crystal lattice vectors."
   ]
  },
  {
   "cell_type": "code",
   "execution_count": null,
   "metadata": {},
   "outputs": [],
   "source": [
    "suggest_magnetic_supercell([[0, -1/4, 1/4]], sys.latsize)"
   ]
  },
  {
   "cell_type": "markdown",
   "metadata": {},
   "source": [
    "The function `reshape_supercell` allows an arbitrary reshaping of the\n",
    "system's supercell. We select the supercell appropriate to the broken-symmetry\n",
    "ground-state, which makes optimization much easier."
   ]
  },
  {
   "cell_type": "code",
   "execution_count": null,
   "metadata": {},
   "outputs": [],
   "source": [
    "sys_min = reshape_supercell(sys, [1 0 0; 0 1 -2; 0 1 2])\n",
    "randomize_spins!(sys_min)\n",
    "minimize_energy!(sys_min)\n",
    "plot_spins(sys_min; ghost_radius=3, resolution=(1024,1024))"
   ]
  },
  {
   "cell_type": "markdown",
   "metadata": {},
   "source": [
    "## Linear spin wave theory\n",
    "\n",
    "Now that we have found the ground state for a magnetic supercell, we can\n",
    "immediately proceed to perform zero-temperature calculations using linear spin\n",
    "wave theory. We begin by instantiating a `SpinWaveTheory` type using the\n",
    "supercell."
   ]
  },
  {
   "cell_type": "code",
   "execution_count": null,
   "metadata": {},
   "outputs": [],
   "source": [
    "swt = SpinWaveTheory(sys_min)"
   ]
  },
  {
   "cell_type": "markdown",
   "metadata": {},
   "source": [
    "Select a sequence of wavevectors that will define a piecewise linear\n",
    "interpolation in reciprocal lattice units (RLU)."
   ]
  },
  {
   "cell_type": "code",
   "execution_count": null,
   "metadata": {},
   "outputs": [],
   "source": [
    "q_points = [[0,0,0], [1,0,0], [0,1,0], [1/2,0,0], [0,1,0], [0,0,0]];"
   ]
  },
  {
   "cell_type": "markdown",
   "metadata": {},
   "source": [
    "The function `reciprocal_space_path` will linearly sample a `path`\n",
    "between the provided $q$-points with a given `density`. The `xticks` return\n",
    "value provides labels for use in plotting."
   ]
  },
  {
   "cell_type": "code",
   "execution_count": null,
   "metadata": {},
   "outputs": [],
   "source": [
    "density = 50\n",
    "path, xticks = reciprocal_space_path(cryst, q_points, density);"
   ]
  },
  {
   "cell_type": "markdown",
   "metadata": {},
   "source": [
    "The `dispersion` function defines the quasiparticle excitation\n",
    "energies $ω_i(𝐪)$ for each point $𝐪$ along the reciprocal space path."
   ]
  },
  {
   "cell_type": "code",
   "execution_count": null,
   "metadata": {},
   "outputs": [],
   "source": [
    "disp = dispersion(swt, path);"
   ]
  },
  {
   "cell_type": "markdown",
   "metadata": {},
   "source": [
    "In addition to the band energies $ω_i(𝐪)$, Sunny can calculate the inelastic\n",
    "neutron scattering intensity $I_i(𝐪)$ for each band $i$ according to an\n",
    "`intensity_formula`. We choose to apply a polarization correction\n",
    "$(1 - 𝐪⊗𝐪)$ by setting the mode argument to `:perp`. Selecting\n",
    "`delta_function_kernel` specifies that we want the energy and intensity of\n",
    "each band individually."
   ]
  },
  {
   "cell_type": "code",
   "execution_count": null,
   "metadata": {},
   "outputs": [],
   "source": [
    "formula = intensity_formula(swt, :perp; kernel=delta_function_kernel)"
   ]
  },
  {
   "cell_type": "markdown",
   "metadata": {},
   "source": [
    "The function `intensities_bands` uses linear spin wave theory to\n",
    "calculate both the dispersion and intensity data for the provided path."
   ]
  },
  {
   "cell_type": "code",
   "execution_count": null,
   "metadata": {},
   "outputs": [],
   "source": [
    "disp, intensity = intensities_bands(swt, path, formula);"
   ]
  },
  {
   "cell_type": "markdown",
   "metadata": {},
   "source": [
    "These can be plotted in GLMakie."
   ]
  },
  {
   "cell_type": "code",
   "execution_count": null,
   "metadata": {},
   "outputs": [],
   "source": [
    "fig = Figure(resolution=(1024,768))\n",
    "ax = Axis(fig[1,1]; xlabel=\"𝐪\", ylabel=\"Energy (meV)\", xticks, xticklabelrotation=π/6)\n",
    "ylims!(ax, 0.0, 7.5)\n",
    "xlims!(ax, 1, size(disp, 1))\n",
    "for i in axes(disp)[2]\n",
    "    lines!(ax, 1:length(disp[:,i]), disp[:,i]; color=intensity[:,i])\n",
    "end\n",
    "fig"
   ]
  },
  {
   "cell_type": "markdown",
   "metadata": {},
   "source": [
    "To make comparisons with inelastic neutron scattering (INS) data, it is\n",
    "helpful to employ an empirical broadening kernel, e.g., a\n",
    "`lorentzian`."
   ]
  },
  {
   "cell_type": "code",
   "execution_count": null,
   "metadata": {},
   "outputs": [],
   "source": [
    "γ = 0.15 # width in meV\n",
    "broadened_formula = intensity_formula(swt, :perp; kernel=lorentzian(γ))"
   ]
  },
  {
   "cell_type": "markdown",
   "metadata": {},
   "source": [
    "The `intensities_broadened` function requires an energy range in\n",
    "addition to the $𝐪$-space path."
   ]
  },
  {
   "cell_type": "code",
   "execution_count": null,
   "metadata": {},
   "outputs": [],
   "source": [
    "energies = collect(0:0.01:10)  # 0 < ω < 10 (meV).\n",
    "is1 = intensities_broadened(swt, path, energies, broadened_formula);"
   ]
  },
  {
   "cell_type": "markdown",
   "metadata": {},
   "source": [
    "A real FeI$_2$ sample will exhibit competing magnetic domains associated with\n",
    "spontaneous symmetry breaking of the 6-fold rotational symmetry of the\n",
    "triangular lattice. Note that the wavevectors $𝐪$ and $-𝐪$ are equivalent in\n",
    "the structure factor, which leaves three distinct domain orientations, which\n",
    "are related by 120° rotations about the $ẑ$-axis. Rather than rotating the\n",
    "spin configuration directly, on can rotate the $𝐪$-space path. Below, we use\n",
    "`rotation_in_rlu` to average the intensities over all three possible\n",
    "orientations."
   ]
  },
  {
   "cell_type": "code",
   "execution_count": null,
   "metadata": {},
   "outputs": [],
   "source": [
    "R = rotation_in_rlu(cryst, [0, 0, 1], 2π/3)\n",
    "is2 = intensities_broadened(swt, [R*q for q in path], energies, broadened_formula)\n",
    "is3 = intensities_broadened(swt, [R*R*q for q in path], energies, broadened_formula)\n",
    "is_averaged = (is1 + is2 + is3) / 3\n",
    "\n",
    "fig = Figure(resolution=(1024,768))\n",
    "ax = Axis(fig[1,1]; xlabel=\"(H,0,0)\", ylabel=\"Energy (meV)\", xticks, xticklabelrotation=π/6)\n",
    "heatmap!(ax, 1:size(is_averaged, 1), energies, is_averaged)\n",
    "fig"
   ]
  },
  {
   "cell_type": "markdown",
   "metadata": {},
   "source": [
    "This result can be directly compared to experimental neutron scattering data\n",
    "from [Bai et al.](https://doi.org/10.1038/s41567-020-01110-1)\n",
    "<div>\n",
    "    <img src=\"https://raw.githubusercontent.com/SunnySuite/Sunny.jl/main/docs/src/assets/FeI2_intensity.jpg\" style=\"float: left;\" width=\"400\">\n",
    "</div>\n",
    "\n",
    "(The publication figure accidentally used a non-standard coordinate system to\n",
    "label the wave vectors.)\n",
    "\n",
    "To get this agreement, the use of SU(3) coherent states is essential. In other\n",
    "words, we needed a theory of multi-flavored bosons. The lower band has large\n",
    "quadrupolar character, and arises from the strong easy-axis anisotropy of\n",
    "FeI$_2$. By setting `mode = :SUN`, the calculation captures this coupled\n",
    "dipole-quadrupole dynamics.\n",
    "\n",
    "An interesting exercise is to repeat the same study, but using `mode =\n",
    ":dipole` instead of `:SUN`. That alternative choice would constrain the\n",
    "coherent state dynamics to the space of dipoles only."
   ]
  },
  {
   "cell_type": "markdown",
   "metadata": {},
   "source": [
    "The full dynamical spin structure factor (DSSF) can be retrieved as a $3×3$\n",
    "matrix with the `dssf` function, for a given path of $𝐪$-vectors."
   ]
  },
  {
   "cell_type": "code",
   "execution_count": null,
   "metadata": {},
   "outputs": [],
   "source": [
    "disp, is = dssf(swt, path);"
   ]
  },
  {
   "cell_type": "markdown",
   "metadata": {},
   "source": [
    "The first output `disp` is identical to that obtained from `dispersion`. The\n",
    "second output `is` contains a list of $3×3$ matrix of intensities. For\n",
    "example, `is[q,n][2,3]` yields the $(ŷ,ẑ)$ component of the structure factor\n",
    "intensity for `nth` mode at the `q`th wavevector in the `path`."
   ]
  },
  {
   "cell_type": "markdown",
   "metadata": {},
   "source": [
    "## What's next?\n",
    "\n",
    "The multi-boson linear spin wave theory, applied above, can be understood as\n",
    "the quantization of a certain generalization of the Landau-Lifshitz spin\n",
    "dynamics. Rather than dipoles, this dynamics takes places on the space of\n",
    "[SU(_N_) coherent states](https://arxiv.org/abs/2106.14125).\n",
    "\n",
    "The full SU(_N_) coherent state dynamics, with appropriate quantum correction\n",
    "factors, can be useful to model finite temperature scattering data. In\n",
    "particular, it captures certain anharmonic effects due to thermal\n",
    "fluctuations. This is the subject of our [Structure Factors with Classical\n",
    "Dynamics](@ref) tutorial.\n",
    "\n",
    "The classical dynamics is also a good starting point to study non-equilibrium\n",
    "phenomena. Empirical noise and damping terms can be used to model [coupling to\n",
    "a thermal bath](https://arxiv.org/abs/2209.01265). This yields a Langevin\n",
    "dynamics of SU(_N_) coherent states. Our CP$^2$ Skyrmion Quench\n",
    "tutorial shows how this dynamics gives rise to the formation of novel\n",
    "topological defects in a temperature quench.\n",
    "\n",
    "Relative to LSWT calculations, it can take much more time to estimate\n",
    "$\\mathcal{S}(𝐪,ω)$ intensities using classical dynamics simulation. See the\n",
    "[SunnyTutorials\n",
    "notebooks](https://nbviewer.org/github/SunnySuite/SunnyTutorials/tree/main/Tutorials/)\n",
    "for examples of \"production-scale\" simulations."
   ]
  },
  {
   "cell_type": "markdown",
   "metadata": {},
   "source": [
    "---\n",
    "\n",
    "*This notebook was generated using [Literate.jl](https://github.com/fredrikekre/Literate.jl).*"
   ]
  }
 ],
 "metadata": {
  "kernelspec": {
   "display_name": "Julia 1.10.0-beta2",
   "language": "julia",
   "name": "julia-1.10"
  },
  "language_info": {
   "file_extension": ".jl",
   "mimetype": "application/julia",
   "name": "julia",
   "version": "1.10.0"
  }
 },
 "nbformat": 4,
 "nbformat_minor": 3
}
