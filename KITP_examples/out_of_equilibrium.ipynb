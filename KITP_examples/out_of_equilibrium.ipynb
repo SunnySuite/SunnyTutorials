{
 "cells": [
  {
   "cell_type": "markdown",
   "metadata": {},
   "source": [
    "# CP$^2$ Skyrmion Quench\n",
    "\n",
    "This example demonstrates Sunny's ability to simulate the out-of-equilibrium\n",
    "dynamics of generalized spin systems. We will implement the model Hamiltonian\n",
    "of [Zhang et al., Nature Communications **14**, 3626\n",
    "(2023)](https://www.nature.com/articles/s41467-023-39232-8), which supports a\n",
    "novel type of topological defect, a CP² skyrmion, that involves both the\n",
    "dipolar and quadrupolar parts of a quantum spin.\n",
    "\n",
    "Beginning from an initial high-temperature state, a disordered gas of CP²\n",
    "skyrmions can be formed by rapidly quenching to low temperature. To model the\n",
    "coupled dynamics of dipoles and quadrupoles, Sunny uses a recently developed\n",
    "generalization of the Landau-Lifshitz spin dynamics, [Dahlbom et al., Phys.\n",
    "Rev. B **106**, 235154 (2022)](https://doi.org/10.1103/PhysRevB.106.235154)."
   ]
  },
  {
   "cell_type": "code",
   "execution_count": null,
   "metadata": {},
   "outputs": [],
   "source": [
    "using Sunny, WGLMakie"
   ]
  },
  {
   "cell_type": "markdown",
   "metadata": {},
   "source": [
    "The Hamiltonian we will implement,\n",
    "$$\n",
    "\\mathcal{H} = \\sum_{\\langle i,j \\rangle} J_{ij}( \\hat{S}_i^x \\hat{S}_j^x + \\hat{S}_i^y \\hat{S}_j^y + \\Delta\\hat{S}_i^z \\hat{S}_j^z) - h\\sum_{i}\\hat{S}_i^z + D\\sum_{i}(\\hat{S}_i^z)^2\n",
    "$$\n",
    "contains competing ferromagnetic nearest-neightbor and antiferromagnetic\n",
    "next-nearest-neighbor exchange terms on a triangular lattice. Both exchanges\n",
    "exhibit anisotropy on the z-term. Additionally, there is an external magnetic\n",
    "field, $h$, and easy-plane single-ion anisotropy, $D$. We begin by implementing\n",
    "the `Crystal`."
   ]
  },
  {
   "cell_type": "code",
   "execution_count": null,
   "metadata": {},
   "outputs": [],
   "source": [
    "lat_vecs = Sunny.lattice_vectors(1.0, 1.0, 2.0, 90, 90, 120)\n",
    "basis_vecs = [[0,0,0]]\n",
    "cryst = Crystal(lat_vecs, basis_vecs)"
   ]
  },
  {
   "cell_type": "markdown",
   "metadata": {},
   "source": [
    "The crystal is then used to create a spin `System`. All parameters in\n",
    "this model system are dimensionless, so we select \"theory\" units and set the\n",
    "g-factor to one."
   ]
  },
  {
   "cell_type": "code",
   "execution_count": null,
   "metadata": {},
   "outputs": [],
   "source": [
    "L = 40\n",
    "dims = (L, L, 1)\n",
    "sys = System(cryst, dims, [SpinInfo(1, S=1, g=1)], :SUN; seed=101, units=Units.theory)"
   ]
  },
  {
   "cell_type": "markdown",
   "metadata": {},
   "source": [
    "We proceed to implement each term of the Hamiltonian, selecting our parameters\n",
    "so that the system occupies a region of the phase diagram that supports\n",
    "skyrmions. The exchange interactions are set as follows."
   ]
  },
  {
   "cell_type": "code",
   "execution_count": null,
   "metadata": {},
   "outputs": [],
   "source": [
    "J1 = -1           # Nearest-neighbor ferromagnetic\n",
    "J2 = (2.0/(1+√5)) # Tune competing exchange to set skyrmion scale length\n",
    "Δ = 2.6           # Exchange anisotropy\n",
    "\n",
    "ex1 = J1 * [1.0 0.0 0.0;\n",
    "            0.0 1.0 0.0;\n",
    "            0.0 0.0 Δ]\n",
    "ex2 = J2 * [1.0 0.0 0.0;\n",
    "            0.0 1.0 0.0;\n",
    "            0.0 0.0 Δ]\n",
    "set_exchange!(sys, ex1, Bond(1, 1, [1, 0, 0]))\n",
    "set_exchange!(sys, ex2, Bond(1, 1, [1, 2, 0]));"
   ]
  },
  {
   "cell_type": "markdown",
   "metadata": {},
   "source": [
    "Next we add the external field,"
   ]
  },
  {
   "cell_type": "code",
   "execution_count": null,
   "metadata": {},
   "outputs": [],
   "source": [
    "h = 15.5\n",
    "field = set_external_field!(sys, [0.0 0.0 h]);"
   ]
  },
  {
   "cell_type": "markdown",
   "metadata": {},
   "source": [
    "and finally the single-ion anisotropy,"
   ]
  },
  {
   "cell_type": "code",
   "execution_count": null,
   "metadata": {},
   "outputs": [],
   "source": [
    "D = 19.0\n",
    "Sz = Sunny.spin_operators(sys, 1)[3]\n",
    "set_onsite_coupling!(sys, D*Sz^2, 1);"
   ]
  },
  {
   "cell_type": "markdown",
   "metadata": {},
   "source": [
    "Initialize system to an infinite temperature (fully randomized) initial\n",
    "condition."
   ]
  },
  {
   "cell_type": "code",
   "execution_count": null,
   "metadata": {},
   "outputs": [],
   "source": [
    "randomize_spins!(sys)"
   ]
  },
  {
   "cell_type": "markdown",
   "metadata": {},
   "source": [
    "We are now ready to simulate the quenching process using a generalized\n",
    "`Langevin` spin dynamics. If we were working with spin dipoles only,\n",
    "then `Langevin` dynamics would be the usual Landau-Lifshitz spin dynamics,\n",
    "augmented with damping and noise terms. In the present study, we are instead\n",
    "working with quantum spin-1 (an ($N=3$)-level system that includes both\n",
    "dipoles and quadrupoles). Here, `Langevin` captures the coupled\n",
    "dipole-quadrupole dynamics using the formalism of SU($N$) coherent states.\n",
    "\n",
    "Selecting `kT = 0` in the Langevin dynamics will effective disable the noise\n",
    "term. Then the parameter `λ` effectively determines the damping time-scale."
   ]
  },
  {
   "cell_type": "code",
   "execution_count": null,
   "metadata": {},
   "outputs": [],
   "source": [
    "Δt = 0.2/D  # Integration time step (inverse meV). Typically this will be\n",
    "            # inversely proportional to the largest energy scale in the\n",
    "            # system. We can use a fairly large time-step here because\n",
    "            # accuracy isn't critical.\n",
    "kT = 0      # Target equilibrium temperature (meV)\n",
    "λ = 0.1     # Magnitude of coupling to thermal bath (dimensionless)\n",
    "integrator = Langevin(Δt; kT, λ);"
   ]
  },
  {
   "cell_type": "markdown",
   "metadata": {},
   "source": [
    "Finally we run the dynamics. We will record the state of the system at three\n",
    "different times during the quenching process by copying the `coherents` field\n",
    "of the `System`."
   ]
  },
  {
   "cell_type": "code",
   "execution_count": null,
   "metadata": {},
   "outputs": [],
   "source": [
    "τs = [4., 16, 256]  # Times to record snapshots\n",
    "frames = []         # Empty array to store snapshots\n",
    "for i in eachindex(τs)\n",
    "    dur = i == 1 ? τs[1] : τs[i] - τs[i-1] # Determine the length of time to simulate\n",
    "    numsteps = round(Int, dur/Δt)\n",
    "    for _ in 1:numsteps                    # Perform the integration\n",
    "        step!(sys, integrator)\n",
    "    end\n",
    "    push!(frames, copy(sys.coherents))     # Save a snapshot spin configuration\n",
    "end"
   ]
  },
  {
   "cell_type": "markdown",
   "metadata": {},
   "source": [
    "To visualize the state of the system contained in each snapshot, we will\n",
    "calculate and plot the skyrmion density on each plaquette of our lattice. The\n",
    "function `plot_triangular_plaquettes` is not part of the core Sunny package,\n",
    "but rather something you could define yourself. We are using the definition in\n",
    "`plotting2d.jl` from the Sunny [`examples/extra`\n",
    "directory](https://github.com/SunnySuite/Sunny.jl/tree/main/examples/extra)."
   ]
  },
  {
   "cell_type": "code",
   "execution_count": null,
   "metadata": {},
   "outputs": [],
   "source": [
    "include(joinpath(pkgdir(Sunny), \"examples\", \"extra\", \"plotting2d.jl\"))\n",
    "\n",
    "function sun_berry_curvature(z₁, z₂, z₃)\n",
    "    z₁, z₂, z₃ = normalize.((z₁, z₂, z₃))\n",
    "    n₁ = z₁ ⋅ z₂\n",
    "    n₂ = z₂ ⋅ z₃\n",
    "    n₃ = z₃ ⋅ z₁\n",
    "    return angle(n₁ * n₂ * n₃)\n",
    "end\n",
    "\n",
    "plot_triangular_plaquettes(sun_berry_curvature, frames; resolution=(1800,600),\n",
    "    offset_spacing=10, texts = [\"\\tt = \"*string(τ) for τ in τs], text_offset = (0.0, 6.0)\n",
    ")"
   ]
  },
  {
   "cell_type": "markdown",
   "metadata": {},
   "source": [
    "The times are given in $\\hbar/|J_1|$. The white\n",
    "background corresponds to a quantum paramagnetic state, where the local spin\n",
    "exhibits a strong quadrupole moment and little or no dipole moment. Observe\n",
    "that the process has generated a number of well-formed skyrmions of both\n",
    "positive (red) and negative (blue) charge in addition to a number of other\n",
    "metastable spin configurations. A full-sized version of this figure is\n",
    "available in [Dahlbom et al.](https://doi.org/10.1103/PhysRevB.106.235154)."
   ]
  },
  {
   "cell_type": "markdown",
   "metadata": {},
   "source": [
    "---\n",
    "\n",
    "*This notebook was generated using [Literate.jl](https://github.com/fredrikekre/Literate.jl).*"
   ]
  }
 ],
 "metadata": {
  "kernelspec": {
   "display_name": "Julia 1.10.0-beta2",
   "language": "julia",
   "name": "julia-1.10"
  },
  "language_info": {
   "file_extension": ".jl",
   "mimetype": "application/julia",
   "name": "julia",
   "version": "1.10.0"
  }
 },
 "nbformat": 4,
 "nbformat_minor": 3
}
