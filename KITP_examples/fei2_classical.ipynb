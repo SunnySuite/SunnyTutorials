{
 "cells": [
  {
   "cell_type": "markdown",
   "metadata": {},
   "source": [
    "# Structure Factors with Classical Dynamics"
   ]
  },
  {
   "cell_type": "code",
   "execution_count": null,
   "metadata": {},
   "outputs": [],
   "source": [
    "using Sunny, WGLMakie, LinearAlgebra"
   ]
  },
  {
   "cell_type": "markdown",
   "metadata": {},
   "source": [
    "In our previous Case Study: FeI$_{2}$, we used linear spin wave theory\n",
    "(LSWT) to calculate the dynamical structure factor. Here, we perform a similar\n",
    "calculation using classical spin dynamics. Because we are interested in the\n",
    "coupled dynamics of spin dipoles and quadrupoles, we employ a [classical\n",
    "dynamics of SU(3) coherent states](https://arxiv.org/abs/2209.01265) that\n",
    "generalizes the Landau-Lifshitz equation.\n",
    "\n",
    "Compared to LSWT, simulations using classical dynamics are much slower, and\n",
    "are limited in $k$-space resolution. However, they make it is possible to\n",
    "capture nonlinear effects associated with finite temperature fluctuations.\n",
    "Classical dynamics are also appealing for studying out-of-equilibrium systems\n",
    "(e.g., relaxation of spin glasses), or systems with quenched inhomogeneities\n",
    "that require large simulation volumes.\n",
    "\n",
    "In this tutorial, we show how to study the finite temperature dynamics of\n",
    "FeI$_2$ using the classical approach. It is important to stress that the\n",
    "estimation of $S(𝐪,ω)$ with classical dynamics is fundamentally a Monte\n",
    "Carlo calculation: sample spin configurations are drawn from thermal\n",
    "equilibrium and used as initial conditions for generating dissipationless\n",
    "trajectories. The correlations of these trajectories are then averaged and\n",
    "used to calculate scattering intensities. It is therefore important to ensure\n",
    "that the initial spin configurations are sampled appropriately and that\n",
    "sufficient statistics are collected. We will demonstrate one approach here.\n",
    "\n",
    "As an overview, we will:\n",
    "\n",
    "1. Identify the ground state\n",
    "2. Measure correlation data describing the excitations around that ground state\n",
    "3. Use the correlation data to compute scattering intensities\n",
    "\n",
    "As the implementation of the FeI$_2$ model is already covered in detail in the\n",
    "LSWT tutorial, we will not repeat it below. Instead, we will assume that you\n",
    "already have defined a `sys` in the same way with lattice dimensions $4×4×4$."
   ]
  },
  {
   "cell_type": "code",
   "execution_count": null,
   "metadata": {},
   "outputs": [],
   "source": [
    "a = b = 4.05012\n",
    "c = 6.75214\n",
    "latvecs = lattice_vectors(a, b, c, 90, 90, 120)\n",
    "positions = [[0,0,0], [1/3, 2/3, 1/4], [2/3, 1/3, 3/4]]\n",
    "types = [\"Fe\", \"I\", \"I\"]\n",
    "FeI2 = Crystal(latvecs, positions; types)\n",
    "cryst = subcrystal(FeI2, \"Fe\")\n",
    "sys = System(cryst, (4,4,4), [SpinInfo(1,S=1,g=2)], :SUN, seed=2)\n",
    "J1pm   = -0.236\n",
    "J1pmpm = -0.161\n",
    "J1zpm  = -0.261\n",
    "J2pm   = 0.026\n",
    "J3pm   = 0.166\n",
    "J′0pm  = 0.037\n",
    "J′1pm  = 0.013\n",
    "J′2apm = 0.068\n",
    "J1zz   = -0.23\n",
    "J2zz   = 0.113\n",
    "J3zz   = 0.211\n",
    "J′0zz  = -0.036\n",
    "J′1zz  = 0.051\n",
    "J′2azz = 0.073\n",
    "J1xx = J1pm + J1pmpm\n",
    "J1yy = J1pm - J1pmpm\n",
    "J1yz = J1zpm\n",
    "set_exchange!(sys, [J1xx 0.0 0.0; 0.0 J1yy J1yz; 0.0 J1yz J1zz], Bond(1,1,[1,0,0]))\n",
    "set_exchange!(sys, [J2pm 0.0 0.0; 0.0 J2pm 0.0; 0.0 0.0 J2zz], Bond(1,1,[1,2,0]))\n",
    "set_exchange!(sys, [J3pm 0.0 0.0; 0.0 J3pm 0.0; 0.0 0.0 J3zz], Bond(1,1,[2,0,0]))\n",
    "set_exchange!(sys, [J′0pm 0.0 0.0; 0.0 J′0pm 0.0; 0.0 0.0 J′0zz], Bond(1,1,[0,0,1]))\n",
    "set_exchange!(sys, [J′1pm 0.0 0.0; 0.0 J′1pm 0.0; 0.0 0.0 J′1zz], Bond(1,1,[1,0,1]))\n",
    "set_exchange!(sys, [J′2apm 0.0 0.0; 0.0 J′2apm 0.0; 0.0 0.0 J′2azz], Bond(1,1,[1,2,1]))\n",
    "D = 2.165\n",
    "S = spin_operators(sys, 1)\n",
    "set_onsite_coupling!(sys, -D*S[3]^2, 1)"
   ]
  },
  {
   "cell_type": "markdown",
   "metadata": {},
   "source": [
    "## Finding a ground state"
   ]
  },
  {
   "cell_type": "markdown",
   "metadata": {},
   "source": [
    "Sunny uses the [Langevin dynamics of SU(_N_) coherent\n",
    "states](https://arxiv.org/abs/2209.01265) to sample spin configurations\n",
    "from the thermal equlibrium. One first constructs a\n",
    "`Langevin` integrator. This requires a time step, temperature, and a\n",
    "phenomenological damping parameter $λ$ that sets the coupling to the thermal\n",
    "bath."
   ]
  },
  {
   "cell_type": "code",
   "execution_count": null,
   "metadata": {},
   "outputs": [],
   "source": [
    "Δt = 0.05/D    # Should be inversely proportional to the largest energy scale\n",
    "               # in the system. For FeI2, this is the easy-axis anisotropy,\n",
    "               # `D = 2.165` (meV). The prefactor 0.05 is relatively small,\n",
    "               # and achieves high accuracy.\n",
    "kT = 0.2       # Temperature of the thermal bath (meV).\n",
    "λ = 0.1        # This value is typically good for Monte Carlo sampling,\n",
    "               # independent of system details.\n",
    "\n",
    "langevin = Langevin(Δt; kT, λ);"
   ]
  },
  {
   "cell_type": "markdown",
   "metadata": {},
   "source": [
    "Sampling with a large number of Langevin time-steps should hopefully\n",
    "thermalize the system to a target temperature. For demonstration purposes, we\n",
    "will here run for a relatively short period of 1,000 timesteps."
   ]
  },
  {
   "cell_type": "code",
   "execution_count": null,
   "metadata": {},
   "outputs": [],
   "source": [
    "randomize_spins!(sys)\n",
    "for _ in 1:1_000\n",
    "    step!(sys, langevin)\n",
    "end"
   ]
  },
  {
   "cell_type": "markdown",
   "metadata": {},
   "source": [
    "To inspect the structure of the spin configuration, we use the function\n",
    "`minimize_energy!` to find a nearby _local_ minimum. Then\n",
    "`print_wrapped_intensities` provides information about the Fourier\n",
    "modes in reciprocal lattice units (RLU)."
   ]
  },
  {
   "cell_type": "code",
   "execution_count": null,
   "metadata": {},
   "outputs": [],
   "source": [
    "minimize_energy!(sys)\n",
    "print_wrapped_intensities(sys)"
   ]
  },
  {
   "cell_type": "markdown",
   "metadata": {},
   "source": [
    "The wide distribution of intensities indicates an imperfect magnetic order.\n",
    "The defects are immediately apparent in the real-space spin configuration."
   ]
  },
  {
   "cell_type": "code",
   "execution_count": null,
   "metadata": {},
   "outputs": [],
   "source": [
    "plot_spins(sys, linecolor=:gray, resolution=(1024,1024))"
   ]
  },
  {
   "cell_type": "markdown",
   "metadata": {},
   "source": [
    "In this case, we can find the correct ground state simply by running the\n",
    "Langevin dynamics for longer."
   ]
  },
  {
   "cell_type": "code",
   "execution_count": null,
   "metadata": {},
   "outputs": [],
   "source": [
    "for _ in 1:10_000\n",
    "    step!(sys, langevin)\n",
    "end\n",
    "minimize_energy!(sys)\n",
    "print_wrapped_intensities(sys)"
   ]
  },
  {
   "cell_type": "markdown",
   "metadata": {},
   "source": [
    "This is the perfect single-$𝐐$ ground state. This worked because the\n",
    "temperature `kT = 0.2` was carefully selected. It is below the magnetic\n",
    "ordering temperature, but still large enough that the Langevin dynamics could\n",
    "quickly overcome local energy barriers. More complicated magnetic orderings\n",
    "will frequently require more sophisticated sampling schemes. One possibility\n",
    "is simulated annealing, where `kT` is slowly lowered over the course of the\n",
    "sampling procedure."
   ]
  },
  {
   "cell_type": "markdown",
   "metadata": {},
   "source": [
    "## Calculating Thermal-Averaged Correlations $\\langle S^{\\alpha\\beta}(𝐪,ω)\\rangle$\n",
    "\n",
    "Now that we have identified an appropriate ground state, we will adjust\n",
    "the temperature so that the system still remains near the ground state, but still\n",
    "has thermal fluctuations."
   ]
  },
  {
   "cell_type": "code",
   "execution_count": null,
   "metadata": {},
   "outputs": [],
   "source": [
    "kT = 3.5 * meV_per_K     # 3.5K ≈ 0.30 meV\n",
    "langevin.kT = kT;"
   ]
  },
  {
   "cell_type": "markdown",
   "metadata": {},
   "source": [
    "Additionally, since these classical simulations are conducted on a finite-sized lattice,\n",
    "obtaining acceptable resolution in momentum space requires the use of a larger\n",
    "system size. We resize the magnetic supercell to a much larger\n",
    "simulation volume, provided as multiples of the original unit cell."
   ]
  },
  {
   "cell_type": "code",
   "execution_count": null,
   "metadata": {},
   "outputs": [],
   "source": [
    "sys_large = resize_supercell(sys, (16,16,4)) # 16x16x4 copies of the original unit cell\n",
    "plot_spins(sys_large, linecolor=:gray, resolution=(1024,1024))"
   ]
  },
  {
   "cell_type": "markdown",
   "metadata": {},
   "source": [
    "As stressed above, we need to sample multiple spin configurations\n",
    "from the thermal equilibrium distribution.\n",
    "We therefore begin by using Langevin dynamics to\n",
    "bring the system into thermal equilibrium at the new temperature."
   ]
  },
  {
   "cell_type": "code",
   "execution_count": null,
   "metadata": {},
   "outputs": [],
   "source": [
    "# At the new temperature\n",
    "for _ in 1:10_000\n",
    "    step!(sys_large, langevin)\n",
    "end"
   ]
  },
  {
   "cell_type": "markdown",
   "metadata": {},
   "source": [
    "Now that we are in a state drawn from thermal equilibrium, we are ready to begin\n",
    "collecting correlation data $S^{\\alpha\\beta}$.\n",
    "\n",
    "To collect one sample of spin-spin correlation data, we integrate the\n",
    "[Hamiltonian dynamics of SU(_N_) coherent states](https://arxiv.org/abs/2204.07563).\n",
    "This generates trajectories $S^\\alpha(\\vec r,t)$.\n",
    "However, note that the spins are only defined at the finitely-many lattice\n",
    "sites, so $\\vec r$ is discrete.\n",
    "From the trajectories, Sunny computes fourier-transformed correlations $S^{\\alpha\\beta}(q,\\omega)$,\n",
    "where $q$ is discrete for the same reason.\n",
    "\n",
    "The correlation data from this sample is now ready to be averaged together with data\n",
    "from other samples to form the thermal average.\n",
    "Samples of correlation data are accumulated and averaged into a\n",
    "`SampledCorrelations`, which is initialized by calling\n",
    "`dynamical_correlations`:"
   ]
  },
  {
   "cell_type": "code",
   "execution_count": null,
   "metadata": {},
   "outputs": [],
   "source": [
    "sc = dynamical_correlations(sys_large; Δt=2Δt, nω=120, ωmax=7.5)"
   ]
  },
  {
   "cell_type": "markdown",
   "metadata": {},
   "source": [
    "`dynamical_correlations` takes a `System`\n",
    "and three keyword parameters that determine the ω information that will be\n",
    "available: an integration step size, the number of ωs to resolve, and the\n",
    "maximum ω to resolve. For the time step, twice the value used for the Langevin\n",
    "integrator is usually a good choice."
   ]
  },
  {
   "cell_type": "markdown",
   "metadata": {},
   "source": [
    "`sc` currently contains no data. The first sample can be accumulated into it by\n",
    "calling `add_sample!`."
   ]
  },
  {
   "cell_type": "code",
   "execution_count": null,
   "metadata": {},
   "outputs": [],
   "source": [
    "add_sample!(sc, sys_large)"
   ]
  },
  {
   "cell_type": "markdown",
   "metadata": {},
   "source": [
    "Additional samples can be added after re-sampling new\n",
    "spin configurations from the thermal distribution.\n",
    "The new samples are generated in the same way as the first sample, by running\n",
    "the Langevin dynamics.\n",
    "The dynamics should be run long enough that consecutive samples are uncorrelated, or\n",
    "else the thermal average will converge only very slowly."
   ]
  },
  {
   "cell_type": "code",
   "execution_count": null,
   "metadata": {},
   "outputs": [],
   "source": [
    "for _ in 1:2\n",
    "    for _ in 1:1000               # Enough steps to decorrelate spins\n",
    "        step!(sys_large, langevin)\n",
    "    end\n",
    "    add_sample!(sc, sys_large)    # Accumulate the sample into `sc`\n",
    "end"
   ]
  },
  {
   "cell_type": "markdown",
   "metadata": {},
   "source": [
    "Now, `sc` has more samples included:"
   ]
  },
  {
   "cell_type": "code",
   "execution_count": null,
   "metadata": {},
   "outputs": [],
   "source": [
    "sc"
   ]
  },
  {
   "cell_type": "markdown",
   "metadata": {},
   "source": [
    "## Computing Scattering Intensities"
   ]
  },
  {
   "cell_type": "markdown",
   "metadata": {},
   "source": [
    "With the thermally-averaged correlation data $\\langle S^{\\alpha\\beta}(q,\\omega)\\rangle$\n",
    "in hand, we now need to specify how to extract a scattering intensity from this information.\n",
    "This is done by constructing an `intensity_formula`.\n",
    "By way of example, we will use a formula which computes the trace of the structure\n",
    "factor and applies a classical-to-quantum temperature-dependent rescaling `kT`."
   ]
  },
  {
   "cell_type": "code",
   "execution_count": null,
   "metadata": {},
   "outputs": [],
   "source": [
    "formula = intensity_formula(sc, :trace; kT = kT)"
   ]
  },
  {
   "cell_type": "markdown",
   "metadata": {},
   "source": [
    "Recall that $\\langle S^{\\alpha\\beta}(q,\\omega)\\rangle$ is only available at certain discrete\n",
    "$q$ values, due to the finite lattice size.\n",
    "There are two basic approaches to handling this discreteness.\n",
    "The first approach is to interpolate between the available\n",
    "data using `intensities_interpolated`. For example, we can plot single-$q$ slices\n",
    "at (0,0,0) and (π,π,π) using this method:"
   ]
  },
  {
   "cell_type": "code",
   "execution_count": null,
   "metadata": {},
   "outputs": [],
   "source": [
    "qs = [[0, 0, 0], [0.5, 0.5, 0.5]]\n",
    "is = intensities_interpolated(sc, qs, formula; interpolation = :round)\n",
    "\n",
    "ωs = available_energies(sc)\n",
    "fig = lines(ωs, is[1,:]; axis=(xlabel=\"meV\", ylabel=\"Intensity\"), label=\"(0,0,0)\")\n",
    "lines!(ωs, is[2,:]; label=\"(π,π,π)\")\n",
    "axislegend()\n",
    "fig"
   ]
  },
  {
   "cell_type": "markdown",
   "metadata": {},
   "source": [
    "The resolution in energy can be improved by increasing `nω` (and decreasing `Δt`),\n",
    "and the general accuracy can be improved by collecting additional samples from the thermal\n",
    "equilibrium.\n",
    "\n",
    "For real calculations, one often wants to apply further corrections and more\n",
    "accurate formulas. Here, we apply `FormFactor` corrections appropriate\n",
    "for `Fe2` magnetic ions, and a dipole polarization correction `:perp`."
   ]
  },
  {
   "cell_type": "code",
   "execution_count": null,
   "metadata": {},
   "outputs": [],
   "source": [
    "formfactors = [FormFactor(\"Fe2\"; g_lande=3/2)]\n",
    "new_formula = intensity_formula(sc, :perp; kT = kT, formfactors = formfactors)"
   ]
  },
  {
   "cell_type": "markdown",
   "metadata": {},
   "source": [
    "Frequently, one wants to extract energy intensities along lines that connect\n",
    "special wave vectors--a so-called \"spaghetti plot\". The function\n",
    "`reciprocal_space_path` creates an appropriate horizontal axis for this plot\n",
    "by linearly sampling between provided $q$-points, with a given sample density."
   ]
  },
  {
   "cell_type": "code",
   "execution_count": null,
   "metadata": {},
   "outputs": [],
   "source": [
    "points = [[0,   0, 0],  # List of wave vectors that define a path\n",
    "          [1,   0, 0],\n",
    "          [0,   1, 0],\n",
    "          [1/2, 0, 0],\n",
    "          [0,   1, 0],\n",
    "          [0,   0, 0]]\n",
    "density = 40\n",
    "path, xticks = reciprocal_space_path(cryst, points, density);"
   ]
  },
  {
   "cell_type": "markdown",
   "metadata": {},
   "source": [
    "Again using `intensities_interpolated`, we can evaluate the (interpolated) intensity\n",
    "at each point on the `path`.\n",
    "Since scattering intensities are only available at a certain discrete $(Q,\\omega)$\n",
    "points, the intensity on the path can be calculated by interpolating between these\n",
    "discrete points:"
   ]
  },
  {
   "cell_type": "code",
   "execution_count": null,
   "metadata": {},
   "outputs": [],
   "source": [
    "is_interpolated = intensities_interpolated(sc, path, new_formula;\n",
    "    interpolation = :linear,       # Interpolate between available wave vectors\n",
    ");\n",
    "# Add artificial broadening\n",
    "is_interpolated_broadened = broaden_energy(sc, is, (ω, ω₀)->lorentzian(ω-ω₀, 0.05));"
   ]
  },
  {
   "cell_type": "markdown",
   "metadata": {},
   "source": [
    "The second approach to handle the discreteness of the data is to bin the intensity\n",
    "at the discrete points into the bins of a histogram.\n",
    "First, the five sub-histograms are set up using `reciprocal_space_path_bins` in\n",
    "analogy to `reciprocal_space_path`."
   ]
  },
  {
   "cell_type": "code",
   "execution_count": null,
   "metadata": {},
   "outputs": [],
   "source": [
    "cut_width = 0.3\n",
    "density = 15\n",
    "paramsList, markers, ranges = reciprocal_space_path_bins(sc,points,density,cut_width);"
   ]
  },
  {
   "cell_type": "markdown",
   "metadata": {},
   "source": [
    "Then, the intensity data is computed using `intensities_binned` for each sub-histogram:"
   ]
  },
  {
   "cell_type": "code",
   "execution_count": null,
   "metadata": {},
   "outputs": [],
   "source": [
    "total_bins = ranges[end][end]\n",
    "energy_bins = paramsList[1].numbins[4]\n",
    "is_binned = zeros(Float64,total_bins,energy_bins)\n",
    "integrated_kernel = integrated_lorentzian(0.05) # Lorentzian broadening\n",
    "for k in eachindex(paramsList)\n",
    "    bin_data, counts = intensities_binned(sc,paramsList[k], new_formula;\n",
    "        integrated_kernel = integrated_kernel\n",
    "    )\n",
    "    is_binned[ranges[k],:] = bin_data[:,1,1,:] ./ counts[:,1,1,:]\n",
    "end"
   ]
  },
  {
   "cell_type": "markdown",
   "metadata": {},
   "source": [
    "The graph produced by interpolating (top) is similar to the one produced by binning (bottom):"
   ]
  },
  {
   "cell_type": "code",
   "execution_count": null,
   "metadata": {},
   "outputs": [],
   "source": [
    "fig = Figure(resolution=(2000, 1000))\n",
    "ax_top = Axis(fig[1,1],ylabel = \"meV\",xticklabelrotation=π/8,xticklabelsize=12;xticks)\n",
    "ax_bottom = Axis(fig[2,1],ylabel = \"meV\",xticks = (markers, string.(points)),xticklabelrotation=π/8,xticklabelsize=12)\n",
    "\n",
    "heatmap!(ax_top,1:size(is_interpolated,1), ωs, is_interpolated;\n",
    "    colorrange=(0.0,0.07),\n",
    ")\n",
    "\n",
    "heatmap!(ax_bottom,1:size(is_binned,1), ωs, is_binned;\n",
    "    colorrange=(0.0,0.05),\n",
    ")\n",
    "\n",
    "fig"
   ]
  },
  {
   "cell_type": "markdown",
   "metadata": {},
   "source": [
    "Note that we have clipped the colors in order to make the higher-energy\n",
    "excitations more visible."
   ]
  },
  {
   "cell_type": "markdown",
   "metadata": {},
   "source": [
    "# Unconventional R.L.U. Systems and Constant Energy Cuts"
   ]
  },
  {
   "cell_type": "markdown",
   "metadata": {},
   "source": [
    "Often it is useful to plot cuts across multiple wave vectors but at a single\n",
    "energy. We'll pick an energy,"
   ]
  },
  {
   "cell_type": "code",
   "execution_count": null,
   "metadata": {},
   "outputs": [],
   "source": [
    "ωidx = 60\n",
    "target_ω = ωs[ωidx]\n",
    "println(\"target_ω = $(target_ω)\")#hide"
   ]
  },
  {
   "cell_type": "markdown",
   "metadata": {},
   "source": [
    "and take a constant-energy cut at that energy.\n",
    "The most straightforward way is to make a plot whose axes are aligned with\n",
    "the conventional reciprocal lattice of the crystal.\n",
    "This is accomplished using `unit_resolution_binning_parameters`:"
   ]
  },
  {
   "cell_type": "code",
   "execution_count": null,
   "metadata": {},
   "outputs": [],
   "source": [
    "params = unit_resolution_binning_parameters(sc)\n",
    "params.binstart[1:2] .= -1 # Expand plot range slightly\n",
    "\n",
    "# Set energy integration range\n",
    "omega_width = 0.3\n",
    "params.binstart[4] = target_ω - (omega_width/2)\n",
    "params.binend[4] = target_ω # `binend` should be inside (e.g. at the center) of the range\n",
    "params.binwidth[4] = omega_width\n",
    "\n",
    "integrate_axes!(params, axes = 3) # Integrate out z direction entirely\n",
    "params#hide"
   ]
  },
  {
   "cell_type": "markdown",
   "metadata": {},
   "source": [
    "In each of the following plots, black dashed lines represent (direct) lattice vectors.\n",
    "Since these plots are in reciprocal space, direct lattice vectors are represented\n",
    "as covectors (i.e. coordinate grids) instead of as arrows."
   ]
  },
  {
   "cell_type": "code",
   "execution_count": null,
   "metadata": {},
   "outputs": [],
   "source": [
    "is, counts = intensities_binned(sc,params,new_formula)\n",
    "\n",
    "fig = Figure()\n",
    "ax = Axis(fig[1,1];\n",
    "    title=\"Δω=0.3 meV (Binned)\", aspect=true,\n",
    "    xlabel = \"[H, 0, 0]\",\n",
    "    ylabel = \"[0, K, 0]\"\n",
    ")\n",
    "bcs = axes_bincenters(params)\n",
    "hm = heatmap!(ax,bcs[1],bcs[2],is[:,:,1,1] ./ counts[:,:,1,1])\n",
    "function add_lines!(ax,params)#hide\n",
    "  bes = Sunny.axes_binedges(params)#hide\n",
    "  hrange = range(-2,2,length=17)#hide\n",
    "  linesegments!(ax,[(Point2f(params.covectors[1,1:3] ⋅ [h,-10,0],params.covectors[2,1:3] ⋅ [h,-10,0]),Point2f(params.covectors[1,1:3] ⋅ [h,10,0],params.covectors[2,1:3] ⋅ [h,10,0])) for h = hrange],linestyle=:dash,color=:black)#hide\n",
    "  krange = range(-2,2,length=17)#hide\n",
    "  linesegments!(ax,[(Point2f(params.covectors[1,1:3] ⋅ [-10,k,0],params.covectors[2,1:3] ⋅ [-10,k,0]),Point2f(params.covectors[1,1:3] ⋅ [10,k,0],params.covectors[2,1:3] ⋅ [10,k,0])) for k = krange],linestyle=:dash,color=:black)#hide\n",
    "  xlims!(ax,bes[1][1],bes[1][end])#hide\n",
    "  ylims!(ax,bes[2][1],bes[2][end])#hide\n",
    "end#hide\n",
    "add_lines!(ax,params)\n",
    "Colorbar(fig[1,2], hm);\n",
    "fig"
   ]
  },
  {
   "cell_type": "markdown",
   "metadata": {},
   "source": [
    "In the above plot, the dashed-line (direct) lattice vectors are clearly orthogonal.\n",
    "However, we know that in real space, the lattice vectors $a$ and $b$ are *not* orthogonal, but rather\n",
    "point along the edges of a hexagon (see lower left corner):\n",
    "\n",
    "```@raw html\n",
    "<br><img src=\"https://raw.githubusercontent.com/SunnySuite/Sunny.jl/main/docs/src/assets/FeI2_crystal.jpg\" width=\"400\"><br>\n",
    "```\n",
    "\n",
    "Thus, plotting the direct lattice vectors as orthogonal (even in reciprocal space) is somewhat misleading.\n",
    "Worse yet, the `[H,0,0]` by `[0,K,0]` plot apparently loses the 6-fold symmetry of the crystal!\n",
    "Lastly, if one works out the components of the real-space metric with respect to the axes of the plot,\n",
    "one finds that there are non-zero off-diagonal entries,"
   ]
  },
  {
   "cell_type": "code",
   "execution_count": null,
   "metadata": {},
   "outputs": [],
   "source": [
    "latvecs = sys.crystal.latvecs\n",
    "metric = latvecs' * I(3) * latvecs"
   ]
  },
  {
   "cell_type": "markdown",
   "metadata": {},
   "source": [
    "so real-space rotations and angles map into reciprocal space rotations angles in a complicated way.\n",
    "\n",
    "To resolve these important issues, we want to use axes which are orthogonal (i.e. they diagonalize\n",
    "the metric and solve all of the problems just mentioned). The canonical choice is to use\n",
    "the combination $\\frac{1}{2}a + b$ of lattice vectors (equiv. $a^* - \\frac{1}{2}b^*$), which is orthogonal to $a$:"
   ]
  },
  {
   "cell_type": "code",
   "execution_count": null,
   "metadata": {},
   "outputs": [],
   "source": [
    "(latvecs * [1/2,1,0]) ⋅ (latvecs * [1,0,0]) == 0"
   ]
  },
  {
   "cell_type": "markdown",
   "metadata": {},
   "source": [
    "This new vector $\\frac{1}{2}a+b$ is visibly orthogonal to $a$ in real space:"
   ]
  },
  {
   "cell_type": "code",
   "execution_count": null,
   "metadata": {},
   "outputs": [],
   "source": [
    "f = Figure()#hide\n",
    "ax = Axis(f[1,1])#hide\n",
    "arrows!(ax,[Point2f(0,0),Point2f(latvecs[1:2,1] ./ 2)],[Vec2f(latvecs[1:2,1] ./ 2), Vec2f(latvecs[1:2,2])],arrowcolor = :blue,arrowsize = 30.,linewidth = 5.,linecolor = :blue)#hide\n",
    "arrows!(ax,[Point2f(0,0)],[Vec2f(latvecs[1:2,:] * [1/2,1,0])],arrowcolor = :red,arrowsize = 30.,linewidth = 5.,linecolor = :red, linestyle = :dash)#hide\n",
    "scatter!(ax,[Point2f(latvecs[1:2,:] * [a,b,0]) for a in -1:1, b in -1:1][:],color = :black)#hide\n",
    "annotations!(ax,[\"0\",\"0+b\",\"0+a\", \"a/2\", \"b\"],[Point2f(0,-0.3),Point2f(latvecs[1:2,2]) .- Vec2f(0,0.3),Point2f(latvecs[1:2,1]) .- Vec2f(0,0.3),Point2f(latvecs[1:2,1] ./ 4) .- Vec2f(0,0.3),Point2f(latvecs[1:2,1] ./ 2) .+ Vec2f(latvecs[1:2,2] ./ 2) .+ Vec2f(0.3,0.3)],color=[:black,:black,:black,:blue,:blue])#hide\n",
    "f#hide"
   ]
  },
  {
   "cell_type": "markdown",
   "metadata": {},
   "source": [
    "To use \"projection onto the new vector\" as a histogram axis, only a single change is needed to the binning parameters.\n",
    "The second covector (previously $b$) must be swapped out for $\\frac{1}{2}a + b$ (recall that reciprocal space covectors, such\n",
    "as those used in `BinningParameters` correspond to direct space vectors)."
   ]
  },
  {
   "cell_type": "code",
   "execution_count": null,
   "metadata": {},
   "outputs": [],
   "source": [
    "params.covectors[2,1:3] = [1/2,1,0] # [1/2,1,0] times [a;b;c] is (a/2 + b)\n",
    "params#hide"
   ]
  },
  {
   "cell_type": "markdown",
   "metadata": {},
   "source": [
    "The second axis of the histogram now agrees with what is conventionally labelled as `[H,-H/2,0]`."
   ]
  },
  {
   "cell_type": "markdown",
   "metadata": {},
   "source": [
    "!!! warning \"Length of the new vector\"\n",
    "\n",
    "    Note that, although $\\frac{1}{2}a+b$ is orthogonal to $a$, it is not the same length as $a$.\n",
    "    Instead, it is `sqrt(3/4)` times as long. Note the unsymmetrical axes labels in the plots that\n",
    "    follow as a direct result of this!"
   ]
  },
  {
   "cell_type": "code",
   "execution_count": null,
   "metadata": {},
   "outputs": [],
   "source": [
    "# Zoom out horizontal axis\n",
    "params.binstart[1], params.binend[1] = -2, 2\n",
    "\n",
    "# Adjust vertical axis bounds to account for\n",
    "# length of a/2 + b\n",
    "params.binstart[2], params.binend[2] = -2 * sqrt(3/4), 2 * sqrt(3/4)\n",
    "\n",
    "# Re-compute in the new coordinate system\n",
    "is, counts = intensities_binned(sc,params,new_formula)\n",
    "\n",
    "fig = Figure(; resolution=(1200,500))#hide\n",
    "ax_right = Axis(fig[1,3];#hide\n",
    "    title=\"ω≈$(round(target_ω, digits=2)) meV with Δω=0.3 meV (Binned)\", aspect=true,#hide\n",
    "    xlabel = \"[H, -1/2H, 0]\"#hide\n",
    ")#hide\n",
    "bcs = axes_bincenters(params)#hide\n",
    "hm_right = heatmap!(ax_right,bcs[1],bcs[2],is[:,:,1,1] ./ counts[:,:,1,1])#hide\n",
    "add_lines!(ax_right,params)\n",
    "Colorbar(fig[1,4], hm_right);#hide"
   ]
  },
  {
   "cell_type": "markdown",
   "metadata": {},
   "source": [
    "For comparison purposes, we will make the same plot using\n",
    "`intensities_interpolated` to emulate zero-width bins.\n",
    "This time, it's more convenient to think in terms of reciprocal vectors $a^*$ and $b^*$.\n",
    "Now, our coordinate transformation consists of\n",
    "establishing a new, orthogonal basis\n",
    "to specify our wave vectors: $a^* - \\frac{1}{2}b^*$, $b^*$ and $c^*$.\n",
    "Writing this in matrix form allows us to sample a rectilinear grid of wave vectors in this frame.\n",
    "Finally, we'll convert these back into the original RLU system for input into Sunny."
   ]
  },
  {
   "cell_type": "code",
   "execution_count": null,
   "metadata": {},
   "outputs": [],
   "source": [
    "# New basis matrix\n",
    "A = [1    0 0\n",
    "     -1/2 1 0\n",
    "     0    0 1]\n",
    "\n",
    "# Define our grid of wave vectors\n",
    "npoints = 60\n",
    "as = range(-2, 2, npoints)\n",
    "bs = range(-3/√3, 3/√3, npoints)\n",
    "qs_ortho = [[a, b, 0] for a in as, b in bs]\n",
    "\n",
    "# Convert to original RLU system for input to Sunny\n",
    "qs = [A * q for q in qs_ortho]\n",
    "\n",
    "# Use interpolation to get intensities\n",
    "is = intensities_interpolated(sc, qs, new_formula; interpolation=:linear)\n",
    "\n",
    "ax_left = Axis(fig[1,2];#hide\n",
    "    title=\"ω≈$(round(ωs[ωidx], digits=2)) meV (Interpolated)\", aspect=true,#hide\n",
    "    xlabel = \"[H, -1/2H, 0]\", ylabel = \"[0, K, 0]\"#hide\n",
    ")#hide\n",
    "hm_left = heatmap!(ax_left, as, bs, is[:,:,ωidx])#hide\n",
    "add_lines!(ax_left,params)\n",
    "Colorbar(fig[1,1], hm_left);#hide\n",
    "fig"
   ]
  },
  {
   "cell_type": "markdown",
   "metadata": {},
   "source": [
    "Now, not only are the dashed-line lattice vectors no longer misleadingly orthogonal,\n",
    "but the six-fold symmetry has been restored as well!\n",
    "Further, the metric has been diagonalized:"
   ]
  },
  {
   "cell_type": "code",
   "execution_count": null,
   "metadata": {},
   "outputs": [],
   "source": [
    "metric = (latvecs * inv(A'))' * I(3) * (latvecs * inv(A'))"
   ]
  },
  {
   "cell_type": "markdown",
   "metadata": {},
   "source": [
    "Finally, we note that instantaneous structure factor data, $𝒮(𝐪)$, can be\n",
    "obtained from a dynamic structure factor with\n",
    "`instant_intensities_interpolated`. Here we'll reuse the grid of wave\n",
    "vectors we generated above."
   ]
  },
  {
   "cell_type": "code",
   "execution_count": null,
   "metadata": {},
   "outputs": [],
   "source": [
    "is_static = instant_intensities_interpolated(sc, qs, new_formula; interpolation = :linear)\n",
    "\n",
    "hm = heatmap(as, bs, is_static;\n",
    "    axis=(\n",
    "        title=\"Instantaneous Structure Factor\",\n",
    "        xlabel = \"[H, -1/2H, 0]\",\n",
    "        ylabel = \"[0, K, 0]\",\n",
    "        aspect=true\n",
    "    )\n",
    ")\n",
    "Colorbar(hm.figure[1,2], hm.plot)\n",
    "hm"
   ]
  },
  {
   "cell_type": "markdown",
   "metadata": {},
   "source": [
    "---\n",
    "\n",
    "*This notebook was generated using [Literate.jl](https://github.com/fredrikekre/Literate.jl).*"
   ]
  }
 ],
 "metadata": {
  "kernelspec": {
   "display_name": "Julia 1.10.0-beta2",
   "language": "julia",
   "name": "julia-1.10"
  },
  "language_info": {
   "file_extension": ".jl",
   "mimetype": "application/julia",
   "name": "julia",
   "version": "1.10.0"
  }
 },
 "nbformat": 4,
 "nbformat_minor": 3
}
